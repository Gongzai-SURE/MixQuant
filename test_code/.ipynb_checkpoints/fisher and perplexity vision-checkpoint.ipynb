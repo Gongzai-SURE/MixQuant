{
 "cells": [
  {
   "cell_type": "markdown",
   "id": "f83583c2-6967-41fe-9290-4430cebce40a",
   "metadata": {},
   "source": [
    "## Pearson correlation calculation between fisher info and model perplexity"
   ]
  },
  {
   "cell_type": "markdown",
   "id": "15d5b146-8b81-402f-a83c-3ecf1e36d4b7",
   "metadata": {},
   "source": [
    "# base Function"
   ]
  },
  {
   "cell_type": "code",
   "execution_count": 17,
   "id": "039c1f58-66e2-46dc-9992-43536d456be2",
   "metadata": {},
   "outputs": [],
   "source": [
    "import json\n",
    "import re\n",
    "import matplotlib.pyplot as plt\n",
    "import numpy as np\n",
    "\n",
    "\n",
    "def draw_fisher_bar(file_path,percentage):\n",
    "    feature = re.search(r\"(\\d+_\\d+)\", file_path).group(1)\n",
    "    print(feature)\n",
    "    with open(file_path, \"r\") as file:\n",
    "        data = json.load(file)\n",
    "    \n",
    "    # Extract keys for plotting\n",
    "    keys = [\n",
    "        \"self_attn.q_proj.weight\", \"self_attn.k_proj.weight\", \"self_attn.v_proj.weight\",\n",
    "        \"self_attn.o_proj.weight\", \"mlp.gate_proj.weight\", \"mlp.up_proj.weight\",\n",
    "        \"mlp.down_proj.weight\"\n",
    "    ]\n",
    "    \n",
    "    # Create subplots for each key\n",
    "    fig, axes = plt.subplots(nrows=4, ncols=2, figsize=(15, 20))\n",
    "    axes = axes.flatten()\n",
    "    \n",
    "    global_min = min(min(data[str(idx)][key] for idx in range(len(data))) for key in keys)\n",
    "    global_max = min(max(max(data[str(idx)][key] for idx in range(len(data))) for key in keys),50)\n",
    "    \n",
    "    \n",
    "    for i, key in enumerate(keys):\n",
    "        values = [data[str(idx)][key] for idx in range(len(data))]\n",
    "        axes[i].bar(range(len(values)), values, color=\"skyblue\", edgecolor=\"black\")\n",
    "        axes[i].set_title(key)\n",
    "        axes[i].set_xlabel(\"Transformer block ID\")\n",
    "        axes[i].set_ylabel(\"Fisher Info\")\n",
    "        axes[i].set_ylim(global_min, global_max)\n",
    "    \n",
    "    # Remove the extra subplot if necessary\n",
    "    if len(keys) < len(axes):\n",
    "        for j in range(len(keys), len(axes)):\n",
    "            fig.delaxes(axes[j])\n",
    "            \n",
    "    plt.tight_layout()\n",
    "    # plt.show()\n",
    "    plt.savefig(f\"/root/autodl-tmp/methods/mix_quantize/visualization/llama2-7b/Total_Fisher_bar_chart_{feature}_{percentage}.png\")\n",
    "    plt.close()"
   ]
  },
  {
   "cell_type": "code",
   "execution_count": 7,
   "id": "df2ed5a8-718f-4d04-b68c-63cf8ddbc53a",
   "metadata": {},
   "outputs": [],
   "source": [
    "def draw_perplexity(file_path,percentage):\n",
    "    feature = re.search(r\"(\\d+_\\d+)\", file_path).group(1)\n",
    "    original_perplexity = float(re.search(r\"(\\d+\\.\\d+)\", file_path).group(1))\n",
    "    print(feature,original_perplexity)\n",
    "    with open(file_path, \"r\") as file:\n",
    "        data = json.load(file)\n",
    "    \n",
    "    # Extract keys for plotting\n",
    "    keys = [\n",
    "        \"self_attn.q_proj.weight\", \"self_attn.k_proj.weight\", \"self_attn.v_proj.weight\",\n",
    "        \"self_attn.o_proj.weight\", \"mlp.gate_proj.weight\", \"mlp.up_proj.weight\",\n",
    "        \"mlp.down_proj.weight\"\n",
    "    ]\n",
    "    \n",
    "    # Create subplots for each key\n",
    "    fig, axes = plt.subplots(nrows=4, ncols=2, figsize=(15, 20))\n",
    "    axes = axes.flatten()\n",
    "    \n",
    "    global_min = min(min(data[str(idx)][key] - original_perplexity for idx in range(len(data))) for key in keys)\n",
    "    global_max = max(max(data[str(idx)][key] - original_perplexity for idx in range(len(data))) for key in keys)\n",
    "    \n",
    "    \n",
    "    for i, key in enumerate(keys):\n",
    "        values = [data[str(idx)][key] - original_perplexity for idx in range(len(data))]\n",
    "        axes[i].bar(range(len(values)), values, color=\"skyblue\", edgecolor=\"black\")\n",
    "        axes[i].set_title(key)\n",
    "        axes[i].set_xlabel(\"Transformer block ID\")\n",
    "        axes[i].set_ylabel(\"Perplexity\")\n",
    "        axes[i].set_ylim(global_min, global_max)\n",
    "    \n",
    "    # Remove the extra subplot if necessary\n",
    "    if len(keys) < len(axes):\n",
    "        for j in range(len(keys), len(axes)):\n",
    "            fig.delaxes(axes[j])\n",
    "            \n",
    "    plt.tight_layout()\n",
    "    # plt.show()\n",
    "    plt.savefig(f\"/root/autodl-tmp/methods/mix_quantize/visualization/llama2-7b/Total_Perplrxity_bar_chart_{feature}_{percentage}.png\")\n",
    "    plt.close()\n",
    "\n",
    "root_path = \"/root/autodl-tmp/methods/mix_quantize/model_info/llama2-7b/\""
   ]
  },
  {
   "cell_type": "markdown",
   "id": "947140c2-ed52-4b4a-9a23-bef4eb005644",
   "metadata": {},
   "source": [
    "# 4096 2 0.2"
   ]
  },
  {
   "cell_type": "code",
   "execution_count": 23,
   "id": "9dc63da6-ec2f-4d3e-a8ee-075edafb984c",
   "metadata": {},
   "outputs": [
    {
     "name": "stdout",
     "output_type": "stream",
     "text": [
      "4096_2\n"
     ]
    }
   ],
   "source": [
    "filename = \"fisher_data_4096_2_2024-12-20-22-26-03.json\"\n",
    "draw_fisher_bar(root_path+filename,0.2)"
   ]
  },
  {
   "cell_type": "code",
   "execution_count": 24,
   "id": "2eb188b2-401b-4c50-9175-354a7cac2d89",
   "metadata": {},
   "outputs": [
    {
     "name": "stdout",
     "output_type": "stream",
     "text": [
      "4096_2 2.556640625\n"
     ]
    }
   ],
   "source": [
    "filename = \"modified_perplexitys_4096_2_2024-12-21-11-15-11_2.556640625.json\"\n",
    "draw_perplexity(root_path+filename,0.2)"
   ]
  },
  {
   "cell_type": "markdown",
   "id": "fd787641-3b4a-4806-8754-2f9bc9c4cabb",
   "metadata": {},
   "source": [
    "# 4096 2 0.5"
   ]
  },
  {
   "cell_type": "code",
   "execution_count": 25,
   "id": "b52d2743-0837-4c51-a205-7aebadcbe75b",
   "metadata": {},
   "outputs": [
    {
     "name": "stdout",
     "output_type": "stream",
     "text": [
      "4096_2\n"
     ]
    }
   ],
   "source": [
    "filename = \"fisher_data_4096_2_2024-12-21-11-35-11.json\"\n",
    "draw_fisher_bar(root_path+filename,0.5)"
   ]
  },
  {
   "cell_type": "code",
   "execution_count": 26,
   "id": "c9668b3a-8f95-42bb-ac9b-4f5ac1898cf3",
   "metadata": {},
   "outputs": [
    {
     "name": "stdout",
     "output_type": "stream",
     "text": [
      "4096_2 2.556640625\n"
     ]
    }
   ],
   "source": [
    "filename = \"modified_perplexitys_4096_2_2024-12-21-11-35-11_2.556640625.json\"\n",
    "draw_perplexity(root_path+filename,0.5)"
   ]
  },
  {
   "cell_type": "markdown",
   "id": "50037321-7b9f-4f35-b8e9-06c963b9bb03",
   "metadata": {},
   "source": [
    "# 4096 20 0.5"
   ]
  },
  {
   "cell_type": "code",
   "execution_count": 27,
   "id": "0b0a3695-5cea-4608-ba6a-9389f3cbafd4",
   "metadata": {},
   "outputs": [
    {
     "name": "stdout",
     "output_type": "stream",
     "text": [
      "4096_20\n"
     ]
    }
   ],
   "source": [
    "filename = \"fisher_data_4096_20_2024-12-21-15-40-48.json\"\n",
    "draw_fisher_bar(root_path+filename,0.5)"
   ]
  },
  {
   "cell_type": "code",
   "execution_count": 28,
   "id": "afc2f5e2-256a-490b-84b8-7be919494bd0",
   "metadata": {},
   "outputs": [
    {
     "name": "stdout",
     "output_type": "stream",
     "text": [
      "4096_20 2.44140625\n"
     ]
    }
   ],
   "source": [
    "filename = \"modified_perplexitys_4096_20_2024-12-21-15-40-48_2.44140625.json\"\n",
    "draw_perplexity(root_path+filename,0.5)"
   ]
  },
  {
   "cell_type": "markdown",
   "id": "e761f7cb-69bd-4e37-886c-49a2e7005662",
   "metadata": {},
   "source": [
    "# 2048 2 0.2"
   ]
  },
  {
   "cell_type": "code",
   "execution_count": 19,
   "id": "af5019be-7a93-4720-98bb-e8476a469cec",
   "metadata": {},
   "outputs": [
    {
     "name": "stdout",
     "output_type": "stream",
     "text": [
      "2048_2024\n"
     ]
    }
   ],
   "source": [
    "filename = \"fisher_data_2048_2024-12-20-21-59-30.json\"\n",
    "draw_fisher_bar(root_path+filename)"
   ]
  },
  {
   "cell_type": "code",
   "execution_count": 20,
   "id": "54c7b334-da22-42be-9eb4-4a17369153bb",
   "metadata": {},
   "outputs": [
    {
     "name": "stdout",
     "output_type": "stream",
     "text": [
      "2048_2024 2.49609375\n"
     ]
    }
   ],
   "source": [
    "filename = \"modified_perplexitys_2048_2024-12-20-21-59-30_2.49609375.json\"\n",
    "draw_perplexity(root_path+filename)"
   ]
  },
  {
   "cell_type": "markdown",
   "id": "c540aee2-c0ee-4ca7-872e-f9aed1484589",
   "metadata": {},
   "source": [
    "# 1024 2 0.2"
   ]
  },
  {
   "cell_type": "code",
   "execution_count": 5,
   "id": "8b0ac984-434c-45d7-a53d-1ad69388b46c",
   "metadata": {},
   "outputs": [
    {
     "name": "stdout",
     "output_type": "stream",
     "text": [
      "1024_2\n"
     ]
    }
   ],
   "source": [
    "filename = \"fisher_data_1024_2_2024-12-21-15-55-27.json\"\n",
    "draw_fisher_bar(root_path+filename,0.2)"
   ]
  },
  {
   "cell_type": "code",
   "execution_count": 6,
   "id": "36e9ae28-0cef-43c2-ae34-b5708b67756e",
   "metadata": {},
   "outputs": [
    {
     "name": "stdout",
     "output_type": "stream",
     "text": [
      "1024_2 2.7421875\n"
     ]
    }
   ],
   "source": [
    "filename = \"modified_perplexitys_1024_2_2024-12-21-15-55-27_2.7421875.json\"\n",
    "draw_perplexity(root_path+filename,0.2)"
   ]
  },
  {
   "cell_type": "markdown",
   "id": "29426d54-9a17-4688-adca-bec1520b0bf8",
   "metadata": {},
   "source": [
    "# 1024 2 0.5"
   ]
  },
  {
   "cell_type": "code",
   "execution_count": 9,
   "id": "a45d89ae-dddf-44ad-99b4-40de7a768f19",
   "metadata": {},
   "outputs": [
    {
     "name": "stdout",
     "output_type": "stream",
     "text": [
      "1024_2\n"
     ]
    }
   ],
   "source": [
    "filename = \"fisher_data_1024_2_2024-12-21-16-24-25.json\"\n",
    "draw_fisher_bar(root_path+filename,0.5)"
   ]
  },
  {
   "cell_type": "code",
   "execution_count": 10,
   "id": "3b3b5190-d719-411c-af97-70b67bf32337",
   "metadata": {},
   "outputs": [
    {
     "name": "stdout",
     "output_type": "stream",
     "text": [
      "1024_2 2.7421875\n"
     ]
    }
   ],
   "source": [
    "filename = \"modified_perplexitys_1024_2_2024-12-21-16-24-25_2.7421875.json\"\n",
    "draw_perplexity(root_path+filename,0.5)"
   ]
  },
  {
   "cell_type": "markdown",
   "id": "d1a4e78a-4319-4548-bb20-a9daf249c9e0",
   "metadata": {},
   "source": [
    "# 1024 2 0.75"
   ]
  },
  {
   "cell_type": "code",
   "execution_count": 14,
   "id": "cb6816ed-63e5-4974-bb90-27ea63c985fe",
   "metadata": {},
   "outputs": [
    {
     "name": "stdout",
     "output_type": "stream",
     "text": [
      "1024_2\n"
     ]
    }
   ],
   "source": [
    "filename = \"fisher_data_1024_2_2024-12-21-17-22-47.json\"\n",
    "draw_fisher_bar(root_path+filename,0.75)"
   ]
  },
  {
   "cell_type": "code",
   "execution_count": 13,
   "id": "fd03ba80-6dfc-4651-91b7-17b42a295baf",
   "metadata": {},
   "outputs": [
    {
     "name": "stdout",
     "output_type": "stream",
     "text": [
      "1024_2 2.7421875\n"
     ]
    }
   ],
   "source": [
    "filename = \"modified_perplexitys_1024_2_2024-12-21-17-22-47_2.7421875.json\"\n",
    "draw_perplexity(root_path+filename,0.75)"
   ]
  },
  {
   "cell_type": "markdown",
   "id": "e38d15cf-8922-4db9-84df-d61f344c4553",
   "metadata": {},
   "source": [
    "# 1024 10 0.2"
   ]
  },
  {
   "cell_type": "code",
   "execution_count": 18,
   "id": "b3ad57b4-7e9f-458f-b181-0f790acd0679",
   "metadata": {},
   "outputs": [
    {
     "name": "stdout",
     "output_type": "stream",
     "text": [
      "1024_10\n"
     ]
    }
   ],
   "source": [
    "filename = \"fisher_data_1024_10_2024-12-21-16-16-37.json\"\n",
    "draw_fisher_bar(root_path+filename,0.2)"
   ]
  },
  {
   "cell_type": "code",
   "execution_count": 16,
   "id": "a49e7bb6-3d5b-48c8-a401-ac19d5836859",
   "metadata": {},
   "outputs": [
    {
     "name": "stdout",
     "output_type": "stream",
     "text": [
      "1024_10 2.60546875\n"
     ]
    }
   ],
   "source": [
    "filename = \"modified_perplexitys_1024_10_2024-12-21-16-16-37_2.60546875.json\"\n",
    "draw_perplexity(root_path+filename,0.2)"
   ]
  },
  {
   "cell_type": "markdown",
   "id": "473adfe1-0da0-4b32-a407-a4ff5548139d",
   "metadata": {},
   "source": [
    "# 1024 10 0.5"
   ]
  },
  {
   "cell_type": "code",
   "execution_count": 11,
   "id": "e7ca07b8-2341-474f-9c38-59087920c326",
   "metadata": {},
   "outputs": [
    {
     "name": "stdout",
     "output_type": "stream",
     "text": [
      "1024_10\n"
     ]
    }
   ],
   "source": [
    "filename = \"fisher_data_1024_10_2024-12-21-16-44-29.json\"\n",
    "draw_fisher_bar(root_path+filename,0.5)"
   ]
  },
  {
   "cell_type": "code",
   "execution_count": 12,
   "id": "750025f6-8d7e-48ed-8f39-7fe4d29d8317",
   "metadata": {},
   "outputs": [
    {
     "name": "stdout",
     "output_type": "stream",
     "text": [
      "1024_10 2.60546875\n"
     ]
    }
   ],
   "source": [
    "filename = \"modified_perplexitys_1024_10_2024-12-21-16-44-29_2.60546875.json\"\n",
    "draw_perplexity(root_path+filename,0.5)"
   ]
  },
  {
   "cell_type": "code",
   "execution_count": null,
   "id": "b0a79580-bc1c-47cf-806a-8275571eb827",
   "metadata": {},
   "outputs": [],
   "source": []
  }
 ],
 "metadata": {
  "kernelspec": {
   "display_name": "Python 3 (ipykernel)",
   "language": "python",
   "name": "python3"
  },
  "language_info": {
   "codemirror_mode": {
    "name": "ipython",
    "version": 3
   },
   "file_extension": ".py",
   "mimetype": "text/x-python",
   "name": "python",
   "nbconvert_exporter": "python",
   "pygments_lexer": "ipython3",
   "version": "3.10.8"
  }
 },
 "nbformat": 4,
 "nbformat_minor": 5
}
