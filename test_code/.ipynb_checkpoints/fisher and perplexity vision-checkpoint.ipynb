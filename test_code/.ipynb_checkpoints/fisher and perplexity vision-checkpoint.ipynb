{
 "cells": [
  {
   "cell_type": "markdown",
   "id": "f83583c2-6967-41fe-9290-4430cebce40a",
   "metadata": {},
   "source": [
    "## Pearson correlation calculation between fisher info and model perplexity"
   ]
  },
  {
   "cell_type": "markdown",
   "id": "15d5b146-8b81-402f-a83c-3ecf1e36d4b7",
   "metadata": {},
   "source": [
    "# base Function"
   ]
  },
  {
   "cell_type": "code",
   "execution_count": 1,
   "id": "039c1f58-66e2-46dc-9992-43536d456be2",
   "metadata": {},
   "outputs": [],
   "source": [
    "import json\n",
    "import re\n",
    "import matplotlib.pyplot as plt\n",
    "import numpy as np\n",
    "\n",
    "\n",
    "def draw_fisher_bar(file_path,percentage):\n",
    "    feature = re.search(r\"(\\d+_\\d+)\", file_path).group(1)\n",
    "    print(feature)\n",
    "    with open(file_path, \"r\") as file:\n",
    "        data = json.load(file)\n",
    "    \n",
    "    # Extract keys for plotting\n",
    "    keys = [\n",
    "        \"self_attn.q_proj.weight\", \"self_attn.k_proj.weight\", \"self_attn.v_proj.weight\",\n",
    "        \"self_attn.o_proj.weight\", \"mlp.gate_proj.weight\", \"mlp.up_proj.weight\",\n",
    "        \"mlp.down_proj.weight\"\n",
    "    ]\n",
    "    \n",
    "    # Create subplots for each key\n",
    "    fig, axes = plt.subplots(nrows=4, ncols=2, figsize=(15, 20))\n",
    "    axes = axes.flatten()\n",
    "    \n",
    "    global_min = min(min(data[str(idx)][key] for idx in range(len(data))) for key in keys)\n",
    "    global_max = min(max(max(data[str(idx)][key] for idx in range(len(data))) for key in keys),50)\n",
    "    \n",
    "    \n",
    "    for i, key in enumerate(keys):\n",
    "        values = [data[str(idx)][key] for idx in range(len(data))]\n",
    "        axes[i].bar(range(len(values)), values, color=\"skyblue\", edgecolor=\"black\")\n",
    "        axes[i].set_title(key)\n",
    "        axes[i].set_xlabel(\"Transformer block ID\")\n",
    "        axes[i].set_ylabel(\"Fisher Info\")\n",
    "        axes[i].set_ylim(global_min, global_max)\n",
    "    \n",
    "    # Remove the extra subplot if necessary\n",
    "    if len(keys) < len(axes):\n",
    "        for j in range(len(keys), len(axes)):\n",
    "            fig.delaxes(axes[j])\n",
    "            \n",
    "    plt.tight_layout()\n",
    "    # plt.show()\n",
    "    plt.savefig(f\"/root/autodl-tmp/methods/mix_quantize/visualization/llama2-7b/Total_Fisher_bar_chart_{feature}_{percentage}.png\")\n",
    "    plt.close()"
   ]
  },
  {
   "cell_type": "code",
   "execution_count": 7,
   "id": "df2ed5a8-718f-4d04-b68c-63cf8ddbc53a",
   "metadata": {},
   "outputs": [],
   "source": [
    "def draw_perplexity(file_path,percentage):\n",
    "    feature = re.search(r\"(\\d+_\\d+)\", file_path).group(1)\n",
    "    original_perplexity = float(re.search(r\"(\\d+\\.\\d+)\", file_path).group(1))\n",
    "    print(feature,original_perplexity)\n",
    "    with open(file_path, \"r\") as file:\n",
    "        data = json.load(file)\n",
    "    \n",
    "    # Extract keys for plotting\n",
    "    keys = [\n",
    "        \"self_attn.q_proj.weight\", \"self_attn.k_proj.weight\", \"self_attn.v_proj.weight\",\n",
    "        \"self_attn.o_proj.weight\", \"mlp.gate_proj.weight\", \"mlp.up_proj.weight\",\n",
    "        \"mlp.down_proj.weight\"\n",
    "    ]\n",
    "    \n",
    "    # Create subplots for each key\n",
    "    fig, axes = plt.subplots(nrows=4, ncols=2, figsize=(15, 20))\n",
    "    axes = axes.flatten()\n",
    "    \n",
    "    global_min = min(min(data[str(idx)][key] for idx in range(len(data))) for key in keys)\n",
    "    global_max = max(max(data[str(idx)][key] for idx in range(len(data))) for key in keys)\n",
    "    \n",
    "    \n",
    "    for i, key in enumerate(keys):\n",
    "        values = [data[str(idx)][key] for idx in range(len(data))]\n",
    "        axes[i].bar(range(len(values)), values, color=\"skyblue\", edgecolor=\"black\")\n",
    "        axes[i].set_title(key)\n",
    "        axes[i].set_xlabel(\"Transformer block ID\")\n",
    "        axes[i].set_ylabel(\"Perplexity\")\n",
    "        axes[i].set_ylim(global_min, global_max)\n",
    "    \n",
    "    # Remove the extra subplot if necessary\n",
    "    if len(keys) < len(axes):\n",
    "        for j in range(len(keys), len(axes)):\n",
    "            fig.delaxes(axes[j])\n",
    "            \n",
    "    plt.tight_layout()\n",
    "    # plt.show()\n",
    "    plt.savefig(f\"/root/autodl-tmp/methods/mix_quantize/visualization/llama2-7b/Total_Perplrxity_bar_chart_{feature}_{percentage}.png\")\n",
    "    plt.close()\n",
    "\n",
    "root_path = \"/root/autodl-tmp/methods/mix_quantize/model_info/llama2-7b/\""
   ]
  },
  {
   "cell_type": "markdown",
   "id": "947140c2-ed52-4b4a-9a23-bef4eb005644",
   "metadata": {},
   "source": [
    "# 4096 2 0.2"
   ]
  },
  {
   "cell_type": "code",
   "execution_count": 23,
   "id": "9dc63da6-ec2f-4d3e-a8ee-075edafb984c",
   "metadata": {},
   "outputs": [
    {
     "name": "stdout",
     "output_type": "stream",
     "text": [
      "4096_2\n"
     ]
    }
   ],
   "source": [
    "filename = \"fisher_data_4096_2_2024-12-20-22-26-03.json\"\n",
    "draw_fisher_bar(root_path+filename,0.2)"
   ]
  },
  {
   "cell_type": "code",
   "execution_count": 24,
   "id": "2eb188b2-401b-4c50-9175-354a7cac2d89",
   "metadata": {},
   "outputs": [
    {
     "name": "stdout",
     "output_type": "stream",
     "text": [
      "4096_2 2.556640625\n"
     ]
    }
   ],
   "source": [
    "filename = \"modified_perplexitys_4096_2_2024-12-21-11-15-11_2.556640625.json\"\n",
    "draw_perplexity(root_path+filename,0.2)"
   ]
  },
  {
   "cell_type": "markdown",
   "id": "fd787641-3b4a-4806-8754-2f9bc9c4cabb",
   "metadata": {},
   "source": [
    "# 4096 2 0.5"
   ]
  },
  {
   "cell_type": "code",
   "execution_count": 25,
   "id": "b52d2743-0837-4c51-a205-7aebadcbe75b",
   "metadata": {},
   "outputs": [
    {
     "name": "stdout",
     "output_type": "stream",
     "text": [
      "4096_2\n"
     ]
    }
   ],
   "source": [
    "filename = \"fisher_data_4096_2_2024-12-21-11-35-11.json\"\n",
    "draw_fisher_bar(root_path+filename,0.5)"
   ]
  },
  {
   "cell_type": "code",
   "execution_count": 3,
   "id": "c9668b3a-8f95-42bb-ac9b-4f5ac1898cf3",
   "metadata": {},
   "outputs": [
    {
     "name": "stdout",
     "output_type": "stream",
     "text": [
      "4096_2 2.556640625\n"
     ]
    }
   ],
   "source": [
    "filename = \"modified_perplexitys_4096_2_2024-12-21-11-35-11_2.556640625.json\"\n",
    "draw_perplexity(root_path+filename,0.5)"
   ]
  },
  {
   "cell_type": "markdown",
   "id": "50037321-7b9f-4f35-b8e9-06c963b9bb03",
   "metadata": {},
   "source": [
    "# 4096 20 0.5"
   ]
  },
  {
   "cell_type": "code",
   "execution_count": 27,
   "id": "0b0a3695-5cea-4608-ba6a-9389f3cbafd4",
   "metadata": {},
   "outputs": [
    {
     "name": "stdout",
     "output_type": "stream",
     "text": [
      "4096_20\n"
     ]
    }
   ],
   "source": [
    "filename = \"fisher_data_4096_20_2024-12-21-15-40-48.json\"\n",
    "draw_fisher_bar(root_path+filename,0.5)"
   ]
  },
  {
   "cell_type": "code",
   "execution_count": 28,
   "id": "afc2f5e2-256a-490b-84b8-7be919494bd0",
   "metadata": {},
   "outputs": [
    {
     "name": "stdout",
     "output_type": "stream",
     "text": [
      "4096_20 2.44140625\n"
     ]
    }
   ],
   "source": [
    "filename = \"modified_perplexitys_4096_20_2024-12-21-15-40-48_2.44140625.json\"\n",
    "draw_perplexity(root_path+filename,0.5)"
   ]
  },
  {
   "cell_type": "markdown",
   "id": "e761f7cb-69bd-4e37-886c-49a2e7005662",
   "metadata": {},
   "source": [
    "# 2048 2 0.2"
   ]
  },
  {
   "cell_type": "code",
   "execution_count": 19,
   "id": "af5019be-7a93-4720-98bb-e8476a469cec",
   "metadata": {},
   "outputs": [
    {
     "name": "stdout",
     "output_type": "stream",
     "text": [
      "2048_2024\n"
     ]
    }
   ],
   "source": [
    "filename = \"fisher_data_2048_2024-12-20-21-59-30.json\"\n",
    "draw_fisher_bar(root_path+filename)"
   ]
  },
  {
   "cell_type": "code",
   "execution_count": 20,
   "id": "54c7b334-da22-42be-9eb4-4a17369153bb",
   "metadata": {},
   "outputs": [
    {
     "name": "stdout",
     "output_type": "stream",
     "text": [
      "2048_2024 2.49609375\n"
     ]
    }
   ],
   "source": [
    "filename = \"modified_perplexitys_2048_2024-12-20-21-59-30_2.49609375.json\"\n",
    "draw_perplexity(root_path+filename)"
   ]
  },
  {
   "cell_type": "markdown",
   "id": "c540aee2-c0ee-4ca7-872e-f9aed1484589",
   "metadata": {},
   "source": [
    "# 1024 2 0.2"
   ]
  },
  {
   "cell_type": "code",
   "execution_count": 5,
   "id": "8b0ac984-434c-45d7-a53d-1ad69388b46c",
   "metadata": {},
   "outputs": [
    {
     "name": "stdout",
     "output_type": "stream",
     "text": [
      "1024_2\n"
     ]
    }
   ],
   "source": [
    "filename = \"fisher_data_1024_2_2024-12-21-15-55-27.json\"\n",
    "draw_fisher_bar(root_path+filename,0.2)"
   ]
  },
  {
   "cell_type": "code",
   "execution_count": 6,
   "id": "36e9ae28-0cef-43c2-ae34-b5708b67756e",
   "metadata": {},
   "outputs": [
    {
     "name": "stdout",
     "output_type": "stream",
     "text": [
      "1024_2 2.7421875\n"
     ]
    }
   ],
   "source": [
    "filename = \"modified_perplexitys_1024_2_2024-12-21-15-55-27_2.7421875.json\"\n",
    "draw_perplexity(root_path+filename,0.2)"
   ]
  },
  {
   "cell_type": "markdown",
   "id": "29426d54-9a17-4688-adca-bec1520b0bf8",
   "metadata": {},
   "source": [
    "# 1024 2 0.5"
   ]
  },
  {
   "cell_type": "code",
   "execution_count": 9,
   "id": "a45d89ae-dddf-44ad-99b4-40de7a768f19",
   "metadata": {},
   "outputs": [
    {
     "name": "stdout",
     "output_type": "stream",
     "text": [
      "1024_2\n"
     ]
    }
   ],
   "source": [
    "filename = \"fisher_data_1024_2_2024-12-21-16-24-25.json\"\n",
    "draw_fisher_bar(root_path+filename,0.5)"
   ]
  },
  {
   "cell_type": "code",
   "execution_count": 8,
   "id": "3b3b5190-d719-411c-af97-70b67bf32337",
   "metadata": {},
   "outputs": [
    {
     "name": "stdout",
     "output_type": "stream",
     "text": [
      "1024_2 2.7421875\n"
     ]
    }
   ],
   "source": [
    "filename = \"modified_perplexitys_1024_2_2024-12-21-16-24-25_2.7421875.json\"\n",
    "draw_perplexity(root_path+filename,0.5)"
   ]
  },
  {
   "cell_type": "markdown",
   "id": "d1a4e78a-4319-4548-bb20-a9daf249c9e0",
   "metadata": {},
   "source": [
    "# 1024 2 0.75"
   ]
  },
  {
   "cell_type": "code",
   "execution_count": 14,
   "id": "cb6816ed-63e5-4974-bb90-27ea63c985fe",
   "metadata": {},
   "outputs": [
    {
     "name": "stdout",
     "output_type": "stream",
     "text": [
      "1024_2\n"
     ]
    }
   ],
   "source": [
    "filename = \"fisher_data_1024_2_2024-12-21-17-22-47.json\"\n",
    "draw_fisher_bar(root_path+filename,0.75)"
   ]
  },
  {
   "cell_type": "code",
   "execution_count": 13,
   "id": "fd03ba80-6dfc-4651-91b7-17b42a295baf",
   "metadata": {},
   "outputs": [
    {
     "name": "stdout",
     "output_type": "stream",
     "text": [
      "1024_2 2.7421875\n"
     ]
    }
   ],
   "source": [
    "filename = \"modified_perplexitys_1024_2_2024-12-21-17-22-47_2.7421875.json\"\n",
    "draw_perplexity(root_path+filename,0.75)"
   ]
  },
  {
   "cell_type": "markdown",
   "id": "e38d15cf-8922-4db9-84df-d61f344c4553",
   "metadata": {},
   "source": [
    "# 1024 10 0.2"
   ]
  },
  {
   "cell_type": "code",
   "execution_count": 20,
   "id": "b3ad57b4-7e9f-458f-b181-0f790acd0679",
   "metadata": {},
   "outputs": [
    {
     "name": "stdout",
     "output_type": "stream",
     "text": [
      "1024_10\n"
     ]
    }
   ],
   "source": [
    "filename = \"fisher_data_1024_10_2024-12-21-16-16-37.json\"\n",
    "draw_fisher_bar(root_path+filename,0.2)"
   ]
  },
  {
   "cell_type": "code",
   "execution_count": 16,
   "id": "a49e7bb6-3d5b-48c8-a401-ac19d5836859",
   "metadata": {},
   "outputs": [
    {
     "name": "stdout",
     "output_type": "stream",
     "text": [
      "1024_10 2.60546875\n"
     ]
    }
   ],
   "source": [
    "filename = \"modified_perplexitys_1024_10_2024-12-21-16-16-37_2.60546875.json\"\n",
    "draw_perplexity(root_path+filename,0.2)"
   ]
  },
  {
   "cell_type": "markdown",
   "id": "473adfe1-0da0-4b32-a407-a4ff5548139d",
   "metadata": {},
   "source": [
    "# 1024 10 0.5"
   ]
  },
  {
   "cell_type": "code",
   "execution_count": 11,
   "id": "e7ca07b8-2341-474f-9c38-59087920c326",
   "metadata": {},
   "outputs": [
    {
     "name": "stdout",
     "output_type": "stream",
     "text": [
      "1024_10\n"
     ]
    }
   ],
   "source": [
    "filename = \"fisher_data_1024_10_2024-12-21-16-44-29.json\"\n",
    "draw_fisher_bar(root_path+filename,0.5)"
   ]
  },
  {
   "cell_type": "code",
   "execution_count": 12,
   "id": "750025f6-8d7e-48ed-8f39-7fe4d29d8317",
   "metadata": {},
   "outputs": [
    {
     "name": "stdout",
     "output_type": "stream",
     "text": [
      "1024_10 2.60546875\n"
     ]
    }
   ],
   "source": [
    "filename = \"modified_perplexitys_1024_10_2024-12-21-16-44-29_2.60546875.json\"\n",
    "draw_perplexity(root_path+filename,0.5)"
   ]
  },
  {
   "cell_type": "markdown",
   "id": "d5d0a4db-4c87-4fcc-b2c3-c5092f2bcc7b",
   "metadata": {},
   "source": [
    "# 随机扰动下的组合层困惑度变化以及fisher info结果"
   ]
  },
  {
   "cell_type": "code",
   "execution_count": 15,
   "id": "cbebcfda-a815-41e0-ba97-ad917547a7c1",
   "metadata": {},
   "outputs": [],
   "source": [
    "import json\n",
    "import re\n",
    "import matplotlib.pyplot as plt\n",
    "import numpy as np\n",
    "\n",
    "\n",
    "def draw_layerblock_fisher(file_path,percentage):\n",
    "    feature = re.search(r\"(\\d+_\\d+)\", file_path).group(1)\n",
    "    print(feature)\n",
    "    with open(file_path, \"r\") as file:\n",
    "        datas = json.load(file)\n",
    "    for bit in datas.keys():\n",
    "        data = datas[f\"{bit}\"]\n",
    "        # Extract keys for plotting\n",
    "        keys = [\n",
    "                \"self_attn.q_proj\", \"self_attn.k_proj\", \"self_attn.v_proj\",\n",
    "                \"self_attn.o_proj\", \"mlp.gate_proj\", \"mlp.up_proj\",\n",
    "                \"mlp.down_proj\"\n",
    "            ]\n",
    "        # keys = []\n",
    "        # for step,key in enumerate(total_keys):\n",
    "        #     if (step+1)%3 ==1:\n",
    "                # keys.append(key)\n",
    "        \n",
    "        # Create subplots for each key\n",
    "        fig, axes = plt.subplots(nrows=4, ncols=2, figsize=(15, 20))\n",
    "        axes = axes.flatten()\n",
    "        \n",
    "        global_min = min(min(data[str(idx)][key] for idx in range(len(data))) for key in keys)\n",
    "        global_max = min(max(max(data[str(idx)][key] for idx in range(len(data))) for key in keys),10)\n",
    "        \n",
    "        \n",
    "        for i, key in enumerate(keys):\n",
    "            values = [data[str(idx)][key] for idx in range(len(data))]\n",
    "            axes[i].bar(range(len(values)), values, color=\"skyblue\", edgecolor=\"black\")\n",
    "            axes[i].set_title(key)\n",
    "            axes[i].set_xlabel(\"Transformer block ID\")\n",
    "            axes[i].set_ylabel(\"Fisher Info\")\n",
    "            axes[i].set_ylim(global_min, global_max)\n",
    "        \n",
    "        # Remove the extra subplot if necessary\n",
    "        if len(keys) < len(axes):\n",
    "            for j in range(len(keys), len(axes)):\n",
    "                fig.delaxes(axes[j])\n",
    "                \n",
    "        plt.tight_layout()\n",
    "        # plt.show()\n",
    "        plt.savefig(f\"/root/autodl-tmp/methods/mix_quantize/visualization/llama2-7b/Total_Fisher_bar_chart_{feature}_{percentage}.png\")\n",
    "        plt.close()"
   ]
  },
  {
   "cell_type": "code",
   "execution_count": 26,
   "id": "dc81ad75-d7a7-4113-ae5e-87bbdfc2dc42",
   "metadata": {},
   "outputs": [],
   "source": [
    "def draw_layerblock_perplexity(file_path,percentage):\n",
    "    feature = re.search(r\"(\\d+_\\d+)\", file_path).group(1)\n",
    "    original_perplexity = float(re.search(r\"(\\d+\\.\\d+)\", file_path).group(1))\n",
    "    print(feature,original_perplexity)\n",
    "    with open(file_path, \"r\") as file:\n",
    "        datas = json.load(file)\n",
    "\n",
    "    for bit in datas.keys():\n",
    "        data = datas[f\"{bit}\"]\n",
    "        # Extract keys for plotting\n",
    "        total_keys = [\n",
    "            \"self_attn.q_proj\", \"self_attn.k_proj\", \"self_attn.v_proj\",\n",
    "            \"self_attn.o_proj\", \"mlp.gate_proj\", \"mlp.up_proj\",\n",
    "            \"mlp.down_proj\"\n",
    "        ]\n",
    "        keys = []\n",
    "        for step,key in enumerate(total_keys):\n",
    "            if (step+1)%3 ==1:\n",
    "                keys.append(key)\n",
    "\n",
    "        print(keys)\n",
    "        \n",
    "        # Create subplots for each key\n",
    "        fig, axes = plt.subplots(nrows=4, ncols=2, figsize=(15, 20))\n",
    "        axes = axes.flatten()\n",
    "        \n",
    "        global_min = min(min(data[str(idx)][key] for idx in range(len(data))) for key in keys)\n",
    "        global_max = max(max(data[str(idx)][key] for idx in range(len(data))) for key in keys)\n",
    "        global_min = max(global_min,original_perplexity)\n",
    "        \n",
    "        \n",
    "        for i, key in enumerate(keys):\n",
    "            if i < len(keys)-1:\n",
    "                title = total_keys[i*3]+\" \"+total_keys[i*3+1]+ \" \" +total_keys[i*3+2]\n",
    "            else:\n",
    "                title = total_keys[i*3]\n",
    "            values = [data[str(idx)][key] for idx in range(len(data))]\n",
    "            axes[i].bar(range(len(values)), values, color=\"skyblue\", edgecolor=\"black\")\n",
    "            axes[i].set_title(title)\n",
    "            axes[i].set_xlabel(\"Transformer block ID\")\n",
    "            axes[i].set_ylabel(\"Perplexity\")\n",
    "            axes[i].set_ylim(global_min, global_max)\n",
    "        \n",
    "        # Remove the extra subplot if necessary\n",
    "        if len(keys) < len(axes):\n",
    "            for j in range(len(keys), len(axes)):\n",
    "                fig.delaxes(axes[j])\n",
    "                \n",
    "        plt.tight_layout()\n",
    "        # plt.show()\n",
    "        plt.savefig(f\"/root/autodl-tmp/methods/mix_quantize/visualization/llama2-7b/Total_Perplrxity_bar_chart_{feature}_{percentage}.png\")\n",
    "        plt.close()\n",
    "\n",
    "root_path = \"/root/autodl-tmp/methods/mix_quantize/model_info/llama2-7b/\""
   ]
  },
  {
   "cell_type": "code",
   "execution_count": 15,
   "id": "1b7514fc-d70c-46f0-afd8-7cb3e2cca81e",
   "metadata": {},
   "outputs": [
    {
     "name": "stdout",
     "output_type": "stream",
     "text": [
      "1024_2 2.7421875\n",
      "['self_attn.q_proj', 'self_attn.o_proj', 'mlp.down_proj']\n"
     ]
    }
   ],
   "source": [
    "filename = \"modified_perplexitys_1024_2_2024-12-23-13-33-03_2.7421875.json\"\n",
    "draw_layerblock_perplexity(root_path+filename,0.2)"
   ]
  },
  {
   "cell_type": "code",
   "execution_count": 16,
   "id": "1bb7f9c5-430d-4dd1-befb-c8fb413ebeb2",
   "metadata": {},
   "outputs": [
    {
     "name": "stdout",
     "output_type": "stream",
     "text": [
      "1024_16 2.6171875\n",
      "['self_attn.q_proj', 'self_attn.o_proj', 'mlp.down_proj']\n"
     ]
    }
   ],
   "source": [
    "filename = \"modified_perplexitys_1024_16_2024-12-23-13-58-51_2.6171875.json\"\n",
    "draw_layerblock_perplexity(root_path+filename,0.2)"
   ]
  },
  {
   "cell_type": "code",
   "execution_count": 27,
   "id": "22109a15-3b11-4857-8eca-3f2e4696b9b9",
   "metadata": {},
   "outputs": [
    {
     "name": "stdout",
     "output_type": "stream",
     "text": [
      "1024_2 2.7421875\n",
      "['self_attn.q_proj', 'self_attn.o_proj', 'mlp.down_proj']\n"
     ]
    }
   ],
   "source": [
    "filename = \"modified_perplexitys_1024_2_2024-12-23-14-07-30_2.7421875.json\"\n",
    "draw_layerblock_perplexity(root_path+filename,0.5)"
   ]
  },
  {
   "cell_type": "code",
   "execution_count": 16,
   "id": "2b310d43-c1a4-4524-8347-d8324fafb6c1",
   "metadata": {},
   "outputs": [
    {
     "name": "stdout",
     "output_type": "stream",
     "text": [
      "1024_2\n"
     ]
    }
   ],
   "source": [
    "filename = \"fisher_data_1024_2_2024-12-23-14-07-30.json\"\n",
    "draw_layerblock_fisher(root_path+filename,0.5)"
   ]
  },
  {
   "cell_type": "markdown",
   "id": "1e876625-e838-4ebb-99b8-8ce11a176c1a",
   "metadata": {},
   "source": [
    "# 真实量化下的组合层困惑度变化以及fisher info结果"
   ]
  },
  {
   "cell_type": "code",
   "execution_count": 21,
   "id": "5068c052-821a-4961-bb3b-1526e7a6a55a",
   "metadata": {},
   "outputs": [],
   "source": [
    "import json\n",
    "import re\n",
    "import matplotlib.pyplot as plt\n",
    "import numpy as np\n",
    "\n",
    "\n",
    "def draw_layerblock_fisher(file_path):\n",
    "    feature = re.search(r\"(\\d+_\\d+)\", file_path).group(1)\n",
    "    print(feature)\n",
    "    with open(file_path, \"r\") as file:\n",
    "        datas = json.load(file)\n",
    "\n",
    "    # Create subplots for each bit\n",
    "    fig, axes = plt.subplots(nrows=4, ncols=3, figsize=(15, 20))\n",
    "    axes = axes.flatten()\n",
    "    \n",
    "    for num, bit in enumerate(datas.keys()):\n",
    "        data = datas[f\"{bit}\"]\n",
    "        # Extract keys for plotting\n",
    "        total_keys = [\n",
    "                \"self_attn.q_proj\", \"self_attn.k_proj\", \"self_attn.v_proj\",\n",
    "                \"self_attn.o_proj\", \"mlp.gate_proj\", \"mlp.up_proj\",\n",
    "                \"mlp.down_proj\"\n",
    "            ]\n",
    "        keys = []\n",
    "        for step,key in enumerate(total_keys):\n",
    "            if (step+1)%3 ==1:\n",
    "                keys.append(key)\n",
    "        \n",
    "        global_min = min(min(data[str(idx)][key] for idx in range(len(data))) for key in keys)\n",
    "        global_max = min(max(max(data[str(idx)][key] for idx in range(len(data))) for key in keys),10)\n",
    "        \n",
    "\n",
    "        for i, key in enumerate(keys):\n",
    "            if i < len(keys)-1:\n",
    "                title = total_keys[i*3]+\" \"+total_keys[i*3+1]+ \" \" +total_keys[i*3+2]\n",
    "            else:\n",
    "                title = total_keys[i*3]\n",
    "            values = [data[str(idx)][key] for idx in range(len(data))]\n",
    "            axes[num*len(keys)+i].bar(range(len(values)), values, color=\"skyblue\", edgecolor=\"black\")\n",
    "            axes[num*len(keys)+i].set_title(title)\n",
    "            axes[num*len(keys)+i].set_xlabel(\"Transformer block ID\")\n",
    "            axes[num*len(keys)+i].set_ylabel(\"Fisher Info\")\n",
    "            axes[num*len(keys)+i].set_ylim(global_min, global_max)\n",
    "    \n",
    "        \n",
    "        # Remove the extra subplot if necessary\n",
    "        # if len(keys) < len(axes):\n",
    "        #     for j in range(len(keys), len(axes)):\n",
    "        #         fig.delaxes(axes[j])\n",
    "                \n",
    "    plt.tight_layout()\n",
    "    # plt.show()\n",
    "    plt.savefig(f\"/root/autodl-tmp/methods/mix_quantize/visualization/llama2-7b/Total_block_Fisher_bar_chart_{feature}.png\")\n",
    "    plt.close()"
   ]
  },
  {
   "cell_type": "code",
   "execution_count": 22,
   "id": "bcbd7490-6967-4483-8b2a-8fdb979989a5",
   "metadata": {},
   "outputs": [],
   "source": [
    "def draw_layerblock_perplexity(file_path):\n",
    "    feature = re.search(r\"(\\d+_\\d+)\", file_path).group(1)\n",
    "    original_perplexity = float(re.search(r\"(\\d+\\.\\d+)\", file_path).group(1))\n",
    "    print(feature,original_perplexity)\n",
    "    with open(file_path, \"r\") as file:\n",
    "        datas = json.load(file)\n",
    "\n",
    "    # Create subplots for each bit\n",
    "    fig, axes = plt.subplots(nrows=4, ncols=3, figsize=(15, 20))\n",
    "    axes = axes.flatten()\n",
    "\n",
    "    for num, bit in enumerate(datas.keys()):\n",
    "        data = datas[f\"{bit}\"]\n",
    "        # Extract keys for plotting\n",
    "        total_keys = [\n",
    "            \"self_attn.q_proj\", \"self_attn.k_proj\", \"self_attn.v_proj\",\n",
    "            \"self_attn.o_proj\", \"mlp.gate_proj\", \"mlp.up_proj\",\n",
    "            \"mlp.down_proj\"\n",
    "        ]\n",
    "        keys = []\n",
    "        for step,key in enumerate(total_keys):\n",
    "            if (step+1)%3 ==1:\n",
    "                keys.append(key)\n",
    "\n",
    "        print(keys)\n",
    "        \n",
    "        global_min = min(min(data[str(idx)][key] for idx in range(len(data))) for key in keys)\n",
    "        global_max = max(max(data[str(idx)][key] for idx in range(len(data))) for key in keys)\n",
    "        global_min = max(global_min,original_perplexity)\n",
    "        \n",
    "        \n",
    "        for i, key in enumerate(keys):\n",
    "            if i < len(keys)-1:\n",
    "                title = total_keys[i*3]+\" \"+total_keys[i*3+1]+ \" \" +total_keys[i*3+2]\n",
    "            else:\n",
    "                title = total_keys[i*3]\n",
    "            values = [data[str(idx)][key] for idx in range(len(data))]\n",
    "            axes[num*len(keys)+i].bar(range(len(values)), values, color=\"skyblue\", edgecolor=\"black\")\n",
    "            axes[num*len(keys)+i].set_title(title)\n",
    "            axes[num*len(keys)+i].set_xlabel(\"Transformer block ID\")\n",
    "            axes[num*len(keys)+i].set_ylabel(\"Perplexity\")\n",
    "            axes[num*len(keys)+i].set_ylim(global_min, global_max)\n",
    "        \n",
    "        # Remove the extra subplot if necessary\n",
    "        # if len(keys) < len(axes):\n",
    "        #     for j in range(len(keys), len(axes)):\n",
    "        #         fig.delaxes(axes[j])\n",
    "                \n",
    "    plt.tight_layout()\n",
    "    # plt.show()\n",
    "    plt.savefig(f\"/root/autodl-tmp/methods/mix_quantize/visualization/llama2-7b/Total_block_Perplrxity_bar_chart_{feature}.png\")\n",
    "    plt.close()\n",
    "\n",
    "root_path = \"/root/autodl-tmp/methods/mix_quantize/model_info/llama2-7b/\""
   ]
  },
  {
   "cell_type": "code",
   "execution_count": 23,
   "id": "15020e12-9384-4b48-ba75-75c21cdf1efe",
   "metadata": {},
   "outputs": [
    {
     "name": "stdout",
     "output_type": "stream",
     "text": [
      "1024_8\n",
      "1024_8 2.623046875\n",
      "['self_attn.q_proj', 'self_attn.o_proj', 'mlp.down_proj']\n",
      "['self_attn.q_proj', 'self_attn.o_proj', 'mlp.down_proj']\n",
      "['self_attn.q_proj', 'self_attn.o_proj', 'mlp.down_proj']\n",
      "['self_attn.q_proj', 'self_attn.o_proj', 'mlp.down_proj']\n"
     ]
    }
   ],
   "source": [
    "filename = \"fisher_data_1024_8_2024-12-28-12-51-55.json\"\n",
    "draw_layerblock_fisher(root_path+filename)\n",
    "filename = \"modified_perplexitys_1024_8_2024-12-28-12-51-55_2.623046875.json\"\n",
    "draw_layerblock_perplexity(root_path+filename)"
   ]
  },
  {
   "cell_type": "markdown",
   "id": "aecc70e2-178d-4a45-9087-60213ecabc06",
   "metadata": {},
   "source": [
    "# 加载文件数据"
   ]
  },
  {
   "cell_type": "code",
   "execution_count": 6,
   "id": "12e0259d-7a1a-4bb7-884c-ac463c6b20c8",
   "metadata": {},
   "outputs": [],
   "source": [
    "import os\n",
    "from datetime import datetime\n",
    "\n",
    "def find_latest_file_by_keyword(folder_path, keyword):\n",
    "    # 获取文件夹中所有包含关键词的文件\n",
    "    files = [\n",
    "        os.path.join(folder_path, f) for f in os.listdir(folder_path)\n",
    "        if os.path.isfile(os.path.join(folder_path, f)) and keyword in f\n",
    "    ]\n",
    "\n",
    "    if not files:\n",
    "        return None\n",
    "\n",
    "    def extract_timestamp(filename):\n",
    "        try:\n",
    "            parts = os.path.basename(filename).split('_')\n",
    "            date_time_part = parts[-1].split('.')[0]  # 去掉.json\n",
    "            return datetime.strptime(date_time_part, \"%Y-%m-%d-%H-%M-%S\")\n",
    "        except (IndexError, ValueError):\n",
    "            return datetime.min\n",
    "\n",
    "    latest_file = max(files, key=extract_timestamp)\n",
    "\n",
    "    if extract_timestamp(latest_file) == datetime.min:\n",
    "        return None\n",
    "    else:\n",
    "        return latest_file"
   ]
  },
  {
   "cell_type": "code",
   "execution_count": 7,
   "id": "69076b1a-e206-489c-a495-5497715c28c9",
   "metadata": {},
   "outputs": [
    {
     "name": "stdout",
     "output_type": "stream",
     "text": [
      "/root/autodl-tmp/methods/mix_quantize/model_info/llama2-7b/fisher_data_1024_32_2025-02-28-16-10-27.json\n"
     ]
    }
   ],
   "source": [
    "# 示例调用\n",
    "folder_path = \"/root/autodl-tmp/methods/mix_quantize/model_info/llama2-7b\"\n",
    "keyword = \"fisher_data\"\n",
    "latest_file = find_latest_file_by_keyword(folder_path, keyword)\n",
    "print(latest_file)  # 输出最晚的文件路径，如果没有则输出 None"
   ]
  },
  {
   "cell_type": "code",
   "execution_count": 1,
   "id": "6c0d9430-762a-47c8-8949-519175261a7f",
   "metadata": {},
   "outputs": [
    {
     "data": {
      "image/png": "[encoded data removed]",
      "text/plain": [
       "<Figure size 300x100 with 1 Axes>"
      ]
     },
     "metadata": {},
     "output_type": "display_data"
    }
   ],
   "source": [
    "import matplotlib.pyplot as plt\n",
    "\n",
    "values = [9.046875, 8.875, 5.8203125, 5.921875, 6.32421875, 5.63671875, 5.19921875, 4.76171875, 5.125, 4.36328125, 4.63671875, 4.4765625, 3.43359375, 3.111328125, 2.736328125, 2.48046875, 1.8896484375, 1.353515625, 0.9599609375, 0.71728515625, 0.72412109375, 0.436767578125, 0.4658203125, 0.431396484375, 0.447509765625, 0.5068359375, 0.5556640625, 0.501953125, 1.2587890625, 0.5068359375, 0.32666015625, 0.374755859375]\n",
    "layers = list(range(32))\n",
    "\n",
    "plt.figure(figsize=(3,1))\n",
    "plt.plot(layers, values)\n",
    "plt.axis('off')\n",
    "plt.savefig('/root/autodl-tmp/methods/mix_quantize/visualization/data/sparkline.pdf', bbox_inches='tight', pad_inches=0)"
   ]
  },
  {
   "cell_type": "code",
   "execution_count": null,
   "id": "fd831641-fc47-4e27-8e3f-417a53a73805",
   "metadata": {},
   "outputs": [],
   "source": []
  }
 ],
 "metadata": {
  "kernelspec": {
   "display_name": "Python 3 (ipykernel)",
   "language": "python",
   "name": "python3"
  },
  "language_info": {
   "codemirror_mode": {
    "name": "ipython",
    "version": 3
   },
   "file_extension": ".py",
   "mimetype": "text/x-python",
   "name": "python",
   "nbconvert_exporter": "python",
   "pygments_lexer": "ipython3",
   "version": "3.10.8"
  }
 },
 "nbformat": 4,
 "nbformat_minor": 5
}
